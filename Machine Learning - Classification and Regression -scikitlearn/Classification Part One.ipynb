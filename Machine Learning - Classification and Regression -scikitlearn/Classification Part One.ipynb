{
 "cells": [
  {
   "cell_type": "code",
   "execution_count": 4,
   "metadata": {
    "collapsed": false
   },
   "outputs": [
    {
     "name": "stdout",
     "output_type": "stream",
     "text": [
      "0.64\n"
     ]
    },
    {
     "name": "stderr",
     "output_type": "stream",
     "text": [
      "C:\\Users\\Aaron\\Anaconda3\\lib\\site-packages\\matplotlib\\axes\\_axes.py:519: UserWarning: No labelled objects found. Use label='...' kwarg on individual plots.\n",
      "  warnings.warn(\"No labelled objects found. \"\n"
     ]
    },
    {
     "data": {
      "image/png": "[encoded data removed]",
      "text/plain": [
       "<matplotlib.figure.Figure at 0x20af38325c0>"
      ]
     },
     "metadata": {},
     "output_type": "display_data"
    },
    {
     "data": {
      "image/png": "[encoded data removed]",
      "text/plain": [
       "<matplotlib.figure.Figure at 0x20af397eb38>"
      ]
     },
     "metadata": {},
     "output_type": "display_data"
    }
   ],
   "source": [
    "from sklearn.linear_model import Perceptron\n",
    "from sklearn import metrics\n",
    "import pandas\n",
    "from sklearn.ensemble import RandomForestClassifier as RFC\n",
    "from sklearn import cross_validation as cv\n",
    "import matplotlib.pyplot as plt\n",
    "%matplotlib inline\n",
    "\n",
    "soccer_data = pandas.read_csv('topfiveteams.csv', encoding = \"ISO-8859-1\")\n",
    "#print(soccer_data)\n",
    "\n",
    "(soccer_train, soccer_test) = cv.train_test_split(soccer_data, test_size = .2)\n",
    "#print(soccer_test)\n",
    "\n",
    "\n",
    "\n",
    "#rfc = RFC()\n",
    "\n",
    "predictors = ['AGE', 'GS', \"SB\", \"G\", \"SH\", 'SG', 'A', 'FC', 'FS', 'YC', 'RC']\n",
    "\n",
    "#rfc.fit(soccer_train[predictors], soccer_train[\"National_Team\"])\n",
    "\n",
    "\n",
    "perc = Perceptron(n_iter = 100, eta0 = .0000001)\n",
    "\n",
    "perc.fit(soccer_train[predictors], soccer_train['National_Team'])\n",
    "soccer_perc_predictions = perc.predict(soccer_test[predictors])\n",
    "print(metrics.accuracy_score(soccer_test['National_Team'], soccer_perc_predictions))\n",
    "\n",
    "xvals = [1,100,1000,10000,100000, 1000000]\n",
    "series1 = [.712,.684,.728,.748,.568, .596]\n",
    "#series2 = [.8,.83,.77,.81,.79]\n",
    "plt.suptitle('training error',fontsize=18)\n",
    "plt.xlabel('Number of epochs')\n",
    "plt.ylabel('Accuracy')\n",
    "plt.plot(xvals,series1,'ro-')\n",
    "#plt.plot(xvals,series2,'bs-',label='testing set')\n",
    "plt.legend(loc='lower right', shadow=True)\n",
    "plt.axis([0, 100000, 0, 1])\n",
    "plt.show()\n",
    "\n",
    "\n",
    "xvals = [.00000000001, .000000001, .0000001, .00001, .001, 1]\n",
    "series1 = [.71, .646, .61, .698, .646, .712]\n",
    "#series2 = [.8,.83,.77,.81,.79]\n",
    "plt.suptitle('training error',fontsize=18)\n",
    "plt.xlabel('Learning Rate')\n",
    "plt.ylabel('Accuracy')\n",
    "plt.plot(xvals,series1,'bs-')\n",
    "#plt.plot(xvals,series2,'bs-',label='testing set')\n",
    "plt.legend(loc='lower right', shadow=True)\n",
    "plt.axis([.00000000001, .001, 0, 1])\n",
    "plt.show()\n"
   ]
  },
  {
   "cell_type": "code",
   "execution_count": null,
   "metadata": {
    "collapsed": true
   },
   "outputs": [],
   "source": []
  },
  {
   "cell_type": "code",
   "execution_count": null,
   "metadata": {
    "collapsed": true
   },
   "outputs": [],
   "source": []
  },
  {
   "cell_type": "code",
   "execution_count": null,
   "metadata": {
    "collapsed": true
   },
   "outputs": [],
   "source": []
  }
 ],
 "metadata": {
  "anaconda-cloud": {},
  "kernelspec": {
   "display_name": "Python [Root]",
   "language": "python",
   "name": "Python [Root]"
  },
  "language_info": {
   "codemirror_mode": {
    "name": "ipython",
    "version": 3
   },
   "file_extension": ".py",
   "mimetype": "text/x-python",
   "name": "python",
   "nbconvert_exporter": "python",
   "pygments_lexer": "ipython3",
   "version": "3.5.2"
  }
 },
 "nbformat": 4,
 "nbformat_minor": 0
}

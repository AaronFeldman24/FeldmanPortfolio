{
 "cells": [
  {
   "cell_type": "code",
   "execution_count": 111,
   "metadata": {
    "collapsed": false
   },
   "outputs": [
    {
     "name": "stdout",
     "output_type": "stream",
     "text": [
      "0.72\n"
     ]
    },
    {
     "name": "stderr",
     "output_type": "stream",
     "text": [
      "C:\\Users\\Aaron\\Anaconda3\\lib\\site-packages\\matplotlib\\axes\\_axes.py:519: UserWarning: No labelled objects found. Use label='...' kwarg on individual plots.\n",
      "  warnings.warn(\"No labelled objects found. \"\n"
     ]
    },
    {
     "data": {
      "image/png": "[encoded data removed]",
      "text/plain": [
       "<matplotlib.figure.Figure at 0x1ee761bfe48>"
      ]
     },
     "metadata": {},
     "output_type": "display_data"
    }
   ],
   "source": [
    "from sklearn.linear_model import Perceptron\n",
    "from sklearn.neighbors import KNeighborsClassifier\n",
    "from sklearn import metrics\n",
    "import pandas\n",
    "#from sklearn.ensemble import RandomForestClassifier as RFC\n",
    "from sklearn import cross_validation as cv\n",
    "import matplotlib.pyplot as plt\n",
    "%matplotlib inline\n",
    "\n",
    "soccer_data = pandas.read_csv('topfiveteams.csv', encoding = \"ISO-8859-1\")\n",
    "#print(soccer_data)\n",
    "\n",
    "(soccer_train, soccer_test) = cv.train_test_split(soccer_data, test_size = .2)\n",
    "#print(soccer_test)\n",
    "\n",
    "\n",
    "\n",
    "#rfc = RFC()\n",
    "\n",
    "predictors = ['AGE', 'GS', \"SB\", \"G\", \"SH\", 'SG', 'A', 'FC', 'FS', 'YC', 'RC']\n",
    "\n",
    "#rfc.fit(soccer_train[predictors], soccer_train[\"National_Team\"])\n",
    "\n",
    "\n",
    "perc = KNeighborsClassifier(n_neighbors=4)\n",
    "\n",
    "perc.fit(soccer_train[predictors], soccer_train['National_Team'])\n",
    "soccer_perc_predictions = perc.predict(soccer_test[predictors])\n",
    "print(metrics.accuracy_score(soccer_test['National_Team'], soccer_perc_predictions))\n",
    "\n",
    "\n",
    "xvals = [2,4,5,7,10]\n",
    "series1 = [.622,.71,.766,.752,.728]\n",
    "#series2 = [.8,.83,.77,.81,.79]\n",
    "plt.suptitle('training error',fontsize=18)\n",
    "plt.xlabel('K Values')\n",
    "plt.ylabel('Accuracy')\n",
    "plt.plot(xvals,series1,'gs-')\n",
    "#plt.plot(xvals,series2,'gs-',label='testing set')\n",
    "plt.legend(loc='lower right', shadow=True)\n",
    "plt.axis([0, 10, 0, 1])\n",
    "plt.show()\n"
   ]
  },
  {
   "cell_type": "code",
   "execution_count": null,
   "metadata": {
    "collapsed": true
   },
   "outputs": [],
   "source": []
  },
  {
   "cell_type": "code",
   "execution_count": null,
   "metadata": {
    "collapsed": true
   },
   "outputs": [],
   "source": []
  }
 ],
 "metadata": {
  "anaconda-cloud": {},
  "kernelspec": {
   "display_name": "Python [Root]",
   "language": "python",
   "name": "Python [Root]"
  },
  "language_info": {
   "codemirror_mode": {
    "name": "ipython",
    "version": 3
   },
   "file_extension": ".py",
   "mimetype": "text/x-python",
   "name": "python",
   "nbconvert_exporter": "python",
   "pygments_lexer": "ipython3",
   "version": "3.5.2"
  }
 },
 "nbformat": 4,
 "nbformat_minor": 0
}

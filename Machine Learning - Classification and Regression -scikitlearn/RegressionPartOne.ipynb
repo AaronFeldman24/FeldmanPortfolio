{
 "cells": [
  {
   "cell_type": "code",
   "execution_count": 1,
   "metadata": {
    "collapsed": false
   },
   "outputs": [
    {
     "name": "stderr",
     "output_type": "stream",
     "text": [
      "C:\\Users\\Aaron\\Anaconda3\\lib\\site-packages\\sklearn\\cross_validation.py:44: DeprecationWarning: This module was deprecated in version 0.18 in favor of the model_selection module into which all the refactored classes and functions are moved. Also note that the interface of the new CV iterators are different from that of this module. This module will be removed in 0.20.\n",
      "  \"This module will be removed in 0.20.\", DeprecationWarning)\n"
     ]
    },
    {
     "data": {
      "text/plain": [
       "'\\n(house_train, house_test) = cv.train_test_split(house_data, test_size = .2)\\n#print(house_train)\\n\\npredictors = [\\'CRIM\\', \\'ZN\\', \"INDUS\", \"CHAS\", \"NOX\", \\'RM\\', \\'AGE\\', \\'DIS\\', \\'RAD\\', \\'TAX\\', \\'PTRATIO\\', \\'B\\', \\'LSTAT\\']\\n\\nsgd = linear_model.SGDRegressor(n_iter = 10000, eta0 = .00001)\\n\\nsgd.fit(house_train[predictors], house_train[\\'MEDV\\'])\\nhouse_sgd_predictions = sgd.predict(house_test[predictors])\\nprint(mean_absolute_error(house_test[\\'MEDV\\'], house_sgd_predictions))\\n#print(mean_squared_error(house_test[\\'MEDV\\'], house_sgd_predictions))\\n\\nxvals = [10,100,1000,10000,100000]\\nseries1 = [6.67,6.07,5.64,5.198,4.41]\\n#series2 = [.8,.83,.77,.81,.79]\\n#plt.suptitle(\\'training error\\',fontsize=18)\\nplt.xlabel(\\'Number of Epochs\\')\\nplt.ylabel(\\'Mean Absolute Error\\')\\nplt.plot(xvals,series1,\\'gs-\\')\\n#plt.plot(xvals,series2,\\'gs-\\',label=\\'testing set\\')\\nplt.legend(loc=\\'lower right\\', shadow=True)\\nplt.axis([10, 100000, 4, 7])\\nplt.show()\\n\\nxvals = [.00000001, .0000001, .000001, .00001]\\nseries1 = [6.56, 5.80, 5.27, 4.14]\\n#series2 = [.8,.83,.77,.81,.79]\\n#plt.suptitle(\\'training error\\',fontsize=18)\\nplt.xlabel(\\'Learning Rate\\')\\nplt.ylabel(\\'Mean Absolute Error\\')\\nplt.plot(xvals,series1,\\'bs-\\')\\n#plt.plot(xvals,series2,\\'gs-\\',label=\\'testing set\\')\\nplt.legend(loc=\\'lower right\\', shadow=True)\\nplt.axis([0, .00001, 4, 7])\\nplt.show()\\n'"
      ]
     },
     "execution_count": 1,
     "metadata": {},
     "output_type": "execute_result"
    }
   ],
   "source": [
    "#from sklearn.linear_model import Perceptron\n",
    "from sklearn.metrics import mean_absolute_error\n",
    "from sklearn import metrics\n",
    "import pandas\n",
    "#from sklearn.ensemble import RandomForestClassifier as RFC\n",
    "from sklearn import cross_validation as cv\n",
    "import matplotlib.pyplot as plt\n",
    "%matplotlib inline\n",
    "#from sklearn.linear_model import SGDRegressor\n",
    "from sklearn import linear_model\n",
    "from sklearn.metrics import mean_squared_error\n",
    "\n",
    "\n",
    "house_data = pandas.read_csv('Housing.csv')#, encoding = \"ISO-8859-1\")\n",
    "#print(house_data)\n",
    "\n",
    "(house_train, house_test) = cv.train_test_split(house_data, test_size = .2)\n",
    "#print(house_train)\n",
    "\n",
    "predictors = ['CRIM', 'ZN', \"INDUS\", \"CHAS\", \"NOX\", 'RM', 'AGE', 'DIS', 'RAD', 'TAX', 'PTRATIO', 'B', 'LSTAT']\n",
    "\n",
    "sgd = linear_model.SGDRegressor(n_iter = 10000, eta0 = .00001)\n",
    "\n",
    "sgd.fit(house_train[predictors], house_train['MEDV'])\n",
    "house_sgd_predictions = sgd.predict(house_test[predictors])\n",
    "print(mean_absolute_error(house_test['MEDV'], house_sgd_predictions))\n",
    "#print(mean_squared_error(house_test['MEDV'], house_sgd_predictions))\n",
    "\n",
    "xvals = [10,100,1000,10000,100000]\n",
    "series1 = [6.67,6.07,5.64,5.198,4.41]\n",
    "#series2 = [.8,.83,.77,.81,.79]\n",
    "#plt.suptitle('training error',fontsize=18)\n",
    "plt.xlabel('Number of Epochs')\n",
    "plt.ylabel('Mean Absolute Error')\n",
    "plt.plot(xvals,series1,'gs-')\n",
    "#plt.plot(xvals,series2,'gs-',label='testing set')\n",
    "plt.legend(loc='lower right', shadow=True)\n",
    "plt.axis([10, 100000, 4, 7])\n",
    "plt.show()\n",
    "\n",
    "xvals = [.00000001, .0000001, .000001, .00001]\n",
    "series1 = [6.56, 5.80, 5.27, 4.14]\n",
    "#series2 = [.8,.83,.77,.81,.79]\n",
    "#plt.suptitle('training error',fontsize=18)\n",
    "plt.xlabel('Learning Rate')\n",
    "plt.ylabel('Mean Absolute Error')\n",
    "plt.plot(xvals,series1,'bs-')\n",
    "#plt.plot(xvals,series2,'gs-',label='testing set')\n",
    "plt.legend(loc='lower right', shadow=True)\n",
    "plt.axis([0, .00001, 4, 7])\n",
    "plt.show()\n"
   ]
  },
  {
   "cell_type": "code",
   "execution_count": null,
   "metadata": {
    "collapsed": true
   },
   "outputs": [],
   "source": []
  },
  {
   "cell_type": "code",
   "execution_count": null,
   "metadata": {
    "collapsed": true
   },
   "outputs": [],
   "source": []
  }
 ],
 "metadata": {
  "kernelspec": {
   "display_name": "Python [Root]",
   "language": "python",
   "name": "Python [Root]"
  },
  "language_info": {
   "codemirror_mode": {
    "name": "ipython",
    "version": 3
   },
   "file_extension": ".py",
   "mimetype": "text/x-python",
   "name": "python",
   "nbconvert_exporter": "python",
   "pygments_lexer": "ipython3",
   "version": "3.5.2"
  }
 },
 "nbformat": 4,
 "nbformat_minor": 0
}
